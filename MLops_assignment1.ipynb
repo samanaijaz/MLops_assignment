{
  "nbformat": 4,
  "nbformat_minor": 0,
  "metadata": {
    "colab": {
      "provenance": []
    },
    "kernelspec": {
      "name": "python3",
      "display_name": "Python 3"
    },
    "language_info": {
      "name": "python"
    }
  },
  "cells": [
    {
      "cell_type": "markdown",
      "source": [
        "#Saman Aijaz Siddiqui (B21BB027)"
      ],
      "metadata": {
        "id": "77uCUL11CUkj"
      }
    },
    {
      "cell_type": "markdown",
      "source": [
        "## MLOps Assignment 1"
      ],
      "metadata": {
        "id": "LlIGlcIiywyq"
      }
    },
    {
      "cell_type": "markdown",
      "source": [
        "Q1. Print multiplication table from 1 to 10"
      ],
      "metadata": {
        "id": "i3GplYoCqa89"
      }
    },
    {
      "cell_type": "code",
      "source": [
        "for i in range(1, 11):\n",
        "    for j in range(1, 11):\n",
        "        print(f\"{i} x {j} = {i * j}\")\n",
        "    print()"
      ],
      "metadata": {
        "id": "Vfm5RBY0qbIs",
        "colab": {
          "base_uri": "https://localhost:8080/"
        },
        "outputId": "c810db97-0aa3-4517-e6f5-3d3b971ce38a"
      },
      "execution_count": null,
      "outputs": [
        {
          "output_type": "stream",
          "name": "stdout",
          "text": [
            "1 x 1 = 1\n",
            "1 x 2 = 2\n",
            "1 x 3 = 3\n",
            "1 x 4 = 4\n",
            "1 x 5 = 5\n",
            "1 x 6 = 6\n",
            "1 x 7 = 7\n",
            "1 x 8 = 8\n",
            "1 x 9 = 9\n",
            "1 x 10 = 10\n",
            "\n",
            "2 x 1 = 2\n",
            "2 x 2 = 4\n",
            "2 x 3 = 6\n",
            "2 x 4 = 8\n",
            "2 x 5 = 10\n",
            "2 x 6 = 12\n",
            "2 x 7 = 14\n",
            "2 x 8 = 16\n",
            "2 x 9 = 18\n",
            "2 x 10 = 20\n",
            "\n",
            "3 x 1 = 3\n",
            "3 x 2 = 6\n",
            "3 x 3 = 9\n",
            "3 x 4 = 12\n",
            "3 x 5 = 15\n",
            "3 x 6 = 18\n",
            "3 x 7 = 21\n",
            "3 x 8 = 24\n",
            "3 x 9 = 27\n",
            "3 x 10 = 30\n",
            "\n",
            "4 x 1 = 4\n",
            "4 x 2 = 8\n",
            "4 x 3 = 12\n",
            "4 x 4 = 16\n",
            "4 x 5 = 20\n",
            "4 x 6 = 24\n",
            "4 x 7 = 28\n",
            "4 x 8 = 32\n",
            "4 x 9 = 36\n",
            "4 x 10 = 40\n",
            "\n",
            "5 x 1 = 5\n",
            "5 x 2 = 10\n",
            "5 x 3 = 15\n",
            "5 x 4 = 20\n",
            "5 x 5 = 25\n",
            "5 x 6 = 30\n",
            "5 x 7 = 35\n",
            "5 x 8 = 40\n",
            "5 x 9 = 45\n",
            "5 x 10 = 50\n",
            "\n",
            "6 x 1 = 6\n",
            "6 x 2 = 12\n",
            "6 x 3 = 18\n",
            "6 x 4 = 24\n",
            "6 x 5 = 30\n",
            "6 x 6 = 36\n",
            "6 x 7 = 42\n",
            "6 x 8 = 48\n",
            "6 x 9 = 54\n",
            "6 x 10 = 60\n",
            "\n",
            "7 x 1 = 7\n",
            "7 x 2 = 14\n",
            "7 x 3 = 21\n",
            "7 x 4 = 28\n",
            "7 x 5 = 35\n",
            "7 x 6 = 42\n",
            "7 x 7 = 49\n",
            "7 x 8 = 56\n",
            "7 x 9 = 63\n",
            "7 x 10 = 70\n",
            "\n",
            "8 x 1 = 8\n",
            "8 x 2 = 16\n",
            "8 x 3 = 24\n",
            "8 x 4 = 32\n",
            "8 x 5 = 40\n",
            "8 x 6 = 48\n",
            "8 x 7 = 56\n",
            "8 x 8 = 64\n",
            "8 x 9 = 72\n",
            "8 x 10 = 80\n",
            "\n",
            "9 x 1 = 9\n",
            "9 x 2 = 18\n",
            "9 x 3 = 27\n",
            "9 x 4 = 36\n",
            "9 x 5 = 45\n",
            "9 x 6 = 54\n",
            "9 x 7 = 63\n",
            "9 x 8 = 72\n",
            "9 x 9 = 81\n",
            "9 x 10 = 90\n",
            "\n",
            "10 x 1 = 10\n",
            "10 x 2 = 20\n",
            "10 x 3 = 30\n",
            "10 x 4 = 40\n",
            "10 x 5 = 50\n",
            "10 x 6 = 60\n",
            "10 x 7 = 70\n",
            "10 x 8 = 80\n",
            "10 x 9 = 90\n",
            "10 x 10 = 100\n",
            "\n"
          ]
        }
      ]
    },
    {
      "cell_type": "markdown",
      "source": [
        "Q2. Given two lists, l1 and l2, write a program to create a third list l3 by picking an odd-index element from the list l1 and even index elements from the list l2."
      ],
      "metadata": {
        "id": "kCxjfhGtiMFb"
      }
    },
    {
      "cell_type": "code",
      "source": [
        "# Sample lists\n",
        "l1 = [1, 2, 3, 4, 5, 6]\n",
        "l2 = [10, 20, 30, 40, 50, 60]\n",
        "\n",
        "# Create the third list l3\n",
        "l3 = []\n",
        "\n",
        "#assuming 0 based indicing\n",
        "\n",
        "# Initialize indexes\n",
        "index_l1 = 1  # Start from the first odd index\n",
        "index_l2 = 0  # Start from the first even index\n",
        "\n",
        "# Alternately pick elements from l1 and l2\n",
        "while index_l1 < len(l1) or index_l2 < len(l2):\n",
        "    if index_l1 < len(l1):\n",
        "        l3.append(l1[index_l1])\n",
        "        index_l1 += 2  # Move to the next odd index\n",
        "\n",
        "    if index_l2 < len(l2):\n",
        "        l3.append(l2[index_l2])\n",
        "        index_l2 += 2  # Move to the next even index\n",
        "\n",
        "print(\"List l3:\", l3)"
      ],
      "metadata": {
        "id": "r1lkQPN8iNSc",
        "colab": {
          "base_uri": "https://localhost:8080/"
        },
        "outputId": "fe8a0d9f-6031-42c2-ff6c-67a8d219ae65"
      },
      "execution_count": null,
      "outputs": [
        {
          "output_type": "stream",
          "name": "stdout",
          "text": [
            "List l3: [2, 10, 4, 30, 6, 50]\n"
          ]
        }
      ]
    },
    {
      "cell_type": "markdown",
      "source": [
        "Q3. Print a this pattern(*)\n",
        "\n",
        "    * * * * * * * *\n",
        "      * * * * * * *\n",
        "        * * * * * *\n",
        "          * * * * *\n",
        "            * * * *\n",
        "              * * *\n",
        "                * *\n",
        "                  *"
      ],
      "metadata": {
        "id": "GBb0FgtIq4YA"
      }
    },
    {
      "cell_type": "code",
      "source": [
        "def print_pattern(rows):\n",
        "    for i in range(rows):\n",
        "        # Print leading spaces\n",
        "        print(' ' * 2 * i, end='')\n",
        "        # Print asterisks\n",
        "        print('* ' * (rows - i))\n",
        "\n",
        "# Number of rows\n",
        "rows = 8\n",
        "print_pattern(rows)"
      ],
      "metadata": {
        "id": "rfbGzuA3rcGs",
        "colab": {
          "base_uri": "https://localhost:8080/"
        },
        "outputId": "b8af830b-7d7b-4378-dc55-8b1efa769493"
      },
      "execution_count": null,
      "outputs": [
        {
          "output_type": "stream",
          "name": "stdout",
          "text": [
            "* * * * * * * * \n",
            "  * * * * * * * \n",
            "    * * * * * * \n",
            "      * * * * * \n",
            "        * * * * \n",
            "          * * * \n",
            "            * * \n",
            "              * \n"
          ]
        }
      ]
    },
    {
      "cell_type": "markdown",
      "source": [
        "Q4. Create a function named `exponent(base, exp)` that returns an integer representing the result of raising `base` to the power of `exp`.\n",
        "`exp` is >0.\n",
        "\n",
        "base = 5\n",
        "exponent = 4\n",
        "\n",
        "5 raises to the power of 4 is: 625\n",
        "i.e. (5 *5 * 5 *5 = 625)"
      ],
      "metadata": {
        "id": "WIblh-z6s9me"
      }
    },
    {
      "cell_type": "code",
      "source": [
        "def exponent(base, exp):\n",
        "    result = 1\n",
        "    for _ in range(exp):\n",
        "        result *= base\n",
        "    return result\n",
        "\n",
        "# Example usage\n",
        "base = 5\n",
        "exp = 4\n",
        "print(f\"{base} raised to the power of {exp} is: {exponent(base, exp)}\")"
      ],
      "metadata": {
        "id": "6-KKDQNWs8eQ",
        "colab": {
          "base_uri": "https://localhost:8080/"
        },
        "outputId": "0b634981-44c6-418b-89ea-1085c3f55273"
      },
      "execution_count": null,
      "outputs": [
        {
          "output_type": "stream",
          "name": "stdout",
          "text": [
            "5 raised to the power of 4 is: 625\n"
          ]
        }
      ]
    },
    {
      "cell_type": "markdown",
      "source": [
        "Q5. Create a file named test.txt and insert the following content into it.\n",
        "\n",
        "    line1\n",
        "    line2\n",
        "    line3\n",
        "    line4\n",
        "    line5\n",
        "    line6\n",
        "    line7\n",
        "\n",
        "Write a program which write all content of a given file (test.txt) into a new file by skipping line number 5 (line5)"
      ],
      "metadata": {
        "id": "_QUrD8h6t6PN"
      }
    },
    {
      "cell_type": "code",
      "source": [
        "def process_file(input_file, output_file):\n",
        "    with open(input_file, 'r') as file:\n",
        "        lines = file.readlines()\n",
        "\n",
        "    with open(output_file, 'w') as file:\n",
        "        for i, line in enumerate(lines):\n",
        "            if i != 4:  # Line numbers are 0-based, so line 5 is index 4\n",
        "                file.write(line)\n",
        "\n",
        "# File names\n",
        "input_file = 'test.txt'\n",
        "output_file = 'new_test.txt'\n",
        "\n",
        "# Write initial content to test.txt\n",
        "with open(input_file, 'w') as file:\n",
        "    file.write('line1\\n')\n",
        "    file.write('line2\\n')\n",
        "    file.write('line3\\n')\n",
        "    file.write('line4\\n')\n",
        "    file.write('line5\\n')\n",
        "    file.write('line6\\n')\n",
        "    file.write('line7\\n')\n",
        "\n",
        "# Process the file\n",
        "process_file(input_file, output_file)\n",
        "\n",
        "# Function to print the contents of a file\n",
        "def print_file_contents(file_name):\n",
        "    with open(file_name, 'r') as file:\n",
        "        contents = file.read()\n",
        "        print(contents)\n",
        "\n",
        "# Print the output of the saved file\n",
        "output_file = 'new_test.txt'\n",
        "print_file_contents(output_file)\n"
      ],
      "metadata": {
        "id": "I2KF1QHKrq-s",
        "colab": {
          "base_uri": "https://localhost:8080/"
        },
        "outputId": "77e1422a-4636-40e2-9002-51235017ea84"
      },
      "execution_count": 2,
      "outputs": [
        {
          "output_type": "stream",
          "name": "stdout",
          "text": [
            "line1\n",
            "line2\n",
            "line3\n",
            "line4\n",
            "line6\n",
            "line7\n",
            "\n"
          ]
        }
      ]
    },
    {
      "cell_type": "markdown",
      "source": [
        "Q6. Write a program which receives three names from the user in a single input() function call.\n",
        "\n",
        "    Input: IIT JODHPUR RAJASTHAN\n",
        "\n",
        "    Output:\n",
        "    IIT\n",
        "    JODHPUR\n",
        "    RAJASTHAN"
      ],
      "metadata": {
        "id": "6cdAt0ONvMVI"
      }
    },
    {
      "cell_type": "code",
      "source": [
        "# Receive input from the user\n",
        "input_string = input(\"Enter three names separated by spaces: \")\n",
        "\n",
        "# Split the input string into a list of names\n",
        "names = input_string.split()\n",
        "\n",
        "# Print each name on a new line\n",
        "for name in names:\n",
        "    print(name)"
      ],
      "metadata": {
        "id": "Mo0wyeB6vJJm",
        "colab": {
          "base_uri": "https://localhost:8080/"
        },
        "outputId": "b776ef71-c90e-4e06-b913-91524bc156d6"
      },
      "execution_count": null,
      "outputs": [
        {
          "output_type": "stream",
          "name": "stdout",
          "text": [
            "Enter three names separated by spaces: IIT JODHPUR RAJASTHAN\n",
            "IIT\n",
            "JODHPUR\n",
            "RAJASTHAN\n"
          ]
        }
      ]
    },
    {
      "cell_type": "markdown",
      "source": [
        "Q7. Write a program to define a function called show_employee() with the following requirements:\n",
        "\n",
        "*   It should take the employee's name and salary as input and display both.\n",
        "*   If the salary is not provided in the function call, assign a default value of 9000 to it.\n",
        "\n",
        "After passing:\n",
        "\n",
        "showEmployee(\"Bill Gates\", 12000)\n",
        "\n",
        "showEmployee(\"Elon Musk\")\n",
        "\n",
        "It should print:\n",
        "\n",
        "Name: Bill Gates salary: 12000\n",
        "\n",
        "Name: Elon Musk salary: 9000"
      ],
      "metadata": {
        "id": "jwSKpPcYv_De"
      }
    },
    {
      "cell_type": "code",
      "source": [
        "def show_employee(name, salary=9000):\n",
        "    print(f\"Name: {name} salary: {salary}\")\n",
        "\n",
        "# Example usage\n",
        "show_employee(\"Bill Gates\", 12000)\n",
        "show_employee(\"Elon Musk\")"
      ],
      "metadata": {
        "id": "yyzhkF1Lv94j",
        "colab": {
          "base_uri": "https://localhost:8080/"
        },
        "outputId": "1238d086-1a05-44f4-9bd0-b7b8301e8117"
      },
      "execution_count": null,
      "outputs": [
        {
          "output_type": "stream",
          "name": "stdout",
          "text": [
            "Name: Bill Gates salary: 12000\n",
            "Name: Elon Musk salary: 9000\n"
          ]
        }
      ]
    },
    {
      "cell_type": "markdown",
      "source": [
        "Q8. Write a program to identify words that contain both letters and digits from a given input string.\n",
        "\n",
        "    Given str1 = \"Harry25 is Gryffindor Wizard50 and cursed\"\n",
        "\n",
        "    Output:\n",
        "    Harry25\n",
        "    Wizard50"
      ],
      "metadata": {
        "id": "BAtCQH3pxXWV"
      }
    },
    {
      "cell_type": "code",
      "source": [
        "import re\n",
        "\n",
        "def find_words_with_letters_and_digits(input_string):\n",
        "    # Regular expression to match words with both letters and digits\n",
        "    pattern = re.compile(r'\\b(?=\\w*\\d)(?=\\w*[a-zA-Z])\\w+\\b')\n",
        "\n",
        "    # Find all matching words\n",
        "    words = pattern.findall(input_string)\n",
        "\n",
        "    return words\n",
        "\n",
        "# Given input string\n",
        "str1 = \"Harry25 is Gryffindor Wizard50 and cursed\"\n",
        "\n",
        "# Find words with both letters and digits\n",
        "result = find_words_with_letters_and_digits(str1)\n",
        "\n",
        "# Print each word on a new line\n",
        "for word in result:\n",
        "    print(word)"
      ],
      "metadata": {
        "id": "bqbyxYdqvJHY",
        "colab": {
          "base_uri": "https://localhost:8080/"
        },
        "outputId": "4251109e-49bf-4151-a6f4-87c7281cb79e"
      },
      "execution_count": null,
      "outputs": [
        {
          "output_type": "stream",
          "name": "stdout",
          "text": [
            "Harry25\n",
            "Wizard50\n"
          ]
        }
      ]
    },
    {
      "cell_type": "markdown",
      "source": [
        "Q9. Write a program to substitute each special character in the given string with the symbol #.\n",
        "\n",
        "    Given: str1 = '/*Modi is @Politician & Melony!!'\n",
        "\n",
        "    Output: ##Modi is #Politician # Melony##"
      ],
      "metadata": {
        "id": "Ev6TIw7oyGzJ"
      }
    },
    {
      "cell_type": "code",
      "source": [
        "import re\n",
        "\n",
        "def replace_special_characters(input_string):\n",
        "    # Regular expression pattern to match special characters\n",
        "    pattern = re.compile(r'[^a-zA-Z0-9\\s]')\n",
        "\n",
        "    # Replace each special character with '#'\n",
        "    result = pattern.sub('#', input_string)\n",
        "\n",
        "    return result\n",
        "\n",
        "# Given string\n",
        "str1 = '/*Modi is @Politician & Melony!!'\n",
        "\n",
        "# Substitute special characters and print the result\n",
        "output = replace_special_characters(str1)\n",
        "print(output)"
      ],
      "metadata": {
        "id": "Hbg92hJtvJE7",
        "colab": {
          "base_uri": "https://localhost:8080/"
        },
        "outputId": "21548516-1ae4-45d4-b1b1-70fab32422dc"
      },
      "execution_count": null,
      "outputs": [
        {
          "output_type": "stream",
          "name": "stdout",
          "text": [
            "##Modi is #Politician # Melony##\n"
          ]
        }
      ]
    },
    {
      "cell_type": "markdown",
      "source": [
        "Q10. Construct a Python set that displays elements from both lists as pairs.\n",
        "\n",
        "    Given:\n",
        "\n",
        "    first_list = [2, 3, 4, 5, 6, 7, 8]\n",
        "    second_list = [4, 9, 16, 25, 36, 49, 64]\n",
        "    Output: Result is  {(6, 36), (8, 64), (4, 16), (5, 25), (3, 9), (7, 49), (2, 4)}"
      ],
      "metadata": {
        "id": "L9zg8k_XyoMz"
      }
    },
    {
      "cell_type": "code",
      "source": [
        "# Given lists\n",
        "first_list = [2, 3, 4, 5, 6, 7, 8]\n",
        "second_list = [4, 9, 16, 25, 36, 49, 64]\n",
        "\n",
        "# Create a set of pairs\n",
        "result_set = set(zip(first_list, second_list))\n",
        "\n",
        "# Print the result\n",
        "print(\"Result is\", result_set)\n",
        "\n",
        "#order of mu output list is different as set is an unorderred collection"
      ],
      "metadata": {
        "id": "aSBw6V0OvJCS",
        "colab": {
          "base_uri": "https://localhost:8080/"
        },
        "outputId": "38360518-9b5a-4220-98bf-a2c53b0afd4b"
      },
      "execution_count": null,
      "outputs": [
        {
          "output_type": "stream",
          "name": "stdout",
          "text": [
            "Result is {(7, 49), (2, 4), (4, 16), (8, 64), (6, 36), (3, 9), (5, 25)}\n"
          ]
        }
      ]
    },
    {
      "cell_type": "markdown",
      "source": [
        "Q11. Define two set A and B consisting of 5 elements. Now print the element after performing\n",
        "\n",
        "\n",
        "      1.   A-B\n",
        "      2.   B-A\n",
        "      3.   A∩B\n",
        "      4.   A∪B\n",
        "\n",
        "\n"
      ],
      "metadata": {
        "id": "JHa0SMOozZo9"
      }
    },
    {
      "cell_type": "code",
      "source": [
        "# Define sets A and B\n",
        "A = {1, 2, 3, 4, 5}\n",
        "B = {4, 5, 6, 7, 8}\n",
        "\n",
        "# Perform the set operations\n",
        "A_minus_B = A - B\n",
        "B_minus_A = B - A\n",
        "A_intersection_B = A & B\n",
        "A_union_B = A | B\n",
        "\n",
        "# Print the results\n",
        "print(\"A - B:\", A_minus_B)\n",
        "print(\"B - A:\", B_minus_A)\n",
        "print(\"A ∩ B:\", A_intersection_B)\n",
        "print(\"A ∪ B:\", A_union_B)"
      ],
      "metadata": {
        "id": "r9vL1bpHzZGg",
        "colab": {
          "base_uri": "https://localhost:8080/"
        },
        "outputId": "7b4fd525-3b08-4dc0-b069-4d255f11b6dc"
      },
      "execution_count": null,
      "outputs": [
        {
          "output_type": "stream",
          "name": "stdout",
          "text": [
            "A - B: {1, 2, 3}\n",
            "B - A: {8, 6, 7}\n",
            "A ∩ B: {4, 5}\n",
            "A ∪ B: {1, 2, 3, 4, 5, 6, 7, 8}\n"
          ]
        }
      ]
    },
    {
      "cell_type": "markdown",
      "source": [
        "## Object Oriented Programming Exercise 1:\n",
        "\n",
        "[Classes and Objects in Python](https://pynative.com/python-classes-and-objects/)\n",
        "\n",
        "[Instance variables in Python](https://pynative.com/python-instance-variables/)"
      ],
      "metadata": {
        "id": "UFjTtL_i00dz"
      }
    },
    {
      "cell_type": "markdown",
      "source": [
        "Q12. Create a Vehicle class with max_speed and mileage instance attributes."
      ],
      "metadata": {
        "id": "-PQELvq41z5B"
      }
    },
    {
      "cell_type": "code",
      "source": [
        "class Vehicle:\n",
        "    def __init__(self, max_speed, mileage):\n",
        "        self.max_speed = max_speed\n",
        "        self.mileage = mileage\n",
        "\n",
        "    def __str__(self):\n",
        "        return f\"Max Speed: {self.max_speed} km/h, Mileage: {self.mileage} km\"\n",
        "\n",
        "# Example usage\n",
        "# Create an instance of Vehicle\n",
        "car = Vehicle(max_speed=180, mileage=15000)\n",
        "\n",
        "# Print the vehicle's details\n",
        "print(car)\n"
      ],
      "metadata": {
        "id": "Wa16l5-C0z3Z",
        "colab": {
          "base_uri": "https://localhost:8080/"
        },
        "outputId": "ac05339a-de77-4c9c-87af-4041a4e18aeb"
      },
      "execution_count": null,
      "outputs": [
        {
          "output_type": "stream",
          "name": "stdout",
          "text": [
            "Max Speed: 180 km/h, Mileage: 15000 km\n"
          ]
        }
      ]
    },
    {
      "cell_type": "markdown",
      "source": [
        "Q13. Create a child class Bus that will inherit all of the variables and methods of the Vehicle class.\n",
        "\n",
        "Create a Bus object that will inherit all of the variables and methods of the parent Vehicle class and display it."
      ],
      "metadata": {
        "id": "-Japqg35177L"
      }
    },
    {
      "cell_type": "code",
      "source": [
        "# Define the parent class Vehicle\n",
        "class Vehicle:\n",
        "    def __init__(self, max_speed, mileage):\n",
        "        self.max_speed = max_speed\n",
        "        self.mileage = mileage\n",
        "\n",
        "    def __str__(self):\n",
        "        return f\"Max Speed: {self.max_speed} km/h, Mileage: {self.mileage} km\"\n",
        "\n",
        "# Define the child class Bus that inherits from Vehicle\n",
        "class Bus(Vehicle):\n",
        "    def __init__(self, max_speed, mileage, capacity):\n",
        "        # Call the constructor of the parent class\n",
        "        super().__init__(max_speed, mileage)\n",
        "        self.capacity = capacity\n",
        "\n",
        "    def __str__(self):\n",
        "        # Call the __str__ method of the parent class and add capacity information\n",
        "        return super().__str__() + f\", Capacity: {self.capacity} passengers\"\n",
        "\n",
        "# Example usage\n",
        "# Create an instance of Bus\n",
        "bus = Bus(max_speed=120, mileage=50000, capacity=50)\n",
        "\n",
        "# Print the bus's details\n",
        "print(bus)\n"
      ],
      "metadata": {
        "id": "nUvpX3qR2Upg",
        "colab": {
          "base_uri": "https://localhost:8080/"
        },
        "outputId": "ef523ae6-988b-4b2a-ef71-e714b5c22cca"
      },
      "execution_count": null,
      "outputs": [
        {
          "output_type": "stream",
          "name": "stdout",
          "text": [
            "Max Speed: 120 km/h, Mileage: 50000 km, Capacity: 50 passengers\n"
          ]
        }
      ]
    },
    {
      "cell_type": "markdown",
      "source": [
        "### Class Inheritance\n",
        "\n",
        "Q14. Create a Bus class that inherits from the Vehicle class. Give the capacity argument of Bus.seating_capacity() a default value of 50.\n",
        "\n",
        "Use the following code for your parent Vehicle class.\n",
        "\n",
        "    class Vehicle:\n",
        "      def __init__(self, name, max_speed, mileage):\n",
        "          self.name = name\n",
        "          self.max_speed = max_speed\n",
        "          self.mileage = mileage\n",
        "\n",
        "      def seating_capacity(self, capacity):\n",
        "          return f\"The seating capacity of a {self.name} is {capacity} passengers\"\n",
        "\n",
        "Expected Output:\n",
        "\n",
        "    The seating capacity of a bus is 50 passengers"
      ],
      "metadata": {
        "id": "fPFfg2Hh2VBe"
      }
    },
    {
      "cell_type": "code",
      "source": [
        "# Define the parent class Vehicle\n",
        "class Vehicle:\n",
        "    def __init__(self, name, max_speed, mileage):\n",
        "        self.name = name\n",
        "        self.max_speed = max_speed\n",
        "        self.mileage = mileage\n",
        "\n",
        "    def seating_capacity(self, capacity):\n",
        "        return f\"The seating capacity of a {self.name} is {capacity} passengers\"\n",
        "\n",
        "# Define the child class Bus that inherits from Vehicle\n",
        "class Bus(Vehicle):\n",
        "    def __init__(self, name, max_speed, mileage, capacity=50):\n",
        "        # Call the constructor of the parent class\n",
        "        super().__init__(name, max_speed, mileage)\n",
        "        self.capacity = capacity\n",
        "\n",
        "    def seating_capacity(self, capacity=None):\n",
        "        # Use the default capacity if no argument is provided\n",
        "        if capacity is None:\n",
        "            capacity = self.capacity\n",
        "        return super().seating_capacity(capacity)\n",
        "\n",
        "# Example usage\n",
        "# Create an instance of Bus\n",
        "bus = Bus(name=\"bus\", max_speed=100, mileage=20000)\n",
        "\n",
        "# Print the seating capacity using default capacity\n",
        "print(bus.seating_capacity())  # Should print the default capacity\n",
        "\n",
        "# Print the seating capacity using a specified capacity\n",
        "print(bus.seating_capacity(60))"
      ],
      "metadata": {
        "id": "TKalMy1B2_Ix",
        "colab": {
          "base_uri": "https://localhost:8080/"
        },
        "outputId": "5047b4a8-5f5a-4e13-fe7f-4ee9fd7b249b"
      },
      "execution_count": null,
      "outputs": [
        {
          "output_type": "stream",
          "name": "stdout",
          "text": [
            "The seating capacity of a bus is 50 passengers\n",
            "The seating capacity of a bus is 60 passengers\n"
          ]
        }
      ]
    },
    {
      "cell_type": "markdown",
      "source": [
        "Q15. Create a Bus subclass that inherits from the Vehicle class. By default, the fare for any vehicle is calculated as the seating capacity multiplied by 100. For instances of the Bus class, an additional 10% maintenance fee should be applied to the total fare. Therefore, the final fare for a bus instance will be the sum of the total fare plus an additional 10% of that total fare.\n",
        "\n",
        "Note: The bus has a seating capacity of 50, so the final fare amount should be 5500. You need to override the fare() method from the Vehicle class in the Bus class.\n",
        "\n",
        "Use the provided code for the parent Vehicle class. You should access the parent class within a method of the child class.\n",
        "\n",
        "    class Vehicle:\n",
        "      def __init__(self, name, mileage, capacity):\n",
        "        self.name = name\n",
        "        self.mileage = mileage\n",
        "        self.capacity = capacity\n",
        "\n",
        "      def fare(self):\n",
        "        return self.capacity * 100\n",
        "\n",
        "    class Bus(Vehicle):\n",
        "        pass\n",
        "        School_bus = Bus(\"School Volvo\", 12, 50)\n",
        "        print(\"Total Bus fare is:\", School_bus.fare())\n",
        "\n",
        "    Expected Output:\n",
        "\n",
        "    Total Bus fare is: 5500.0"
      ],
      "metadata": {
        "id": "kenJ766m2_jc"
      }
    },
    {
      "cell_type": "code",
      "source": [
        "# Define the parent class Vehicle\n",
        "class Vehicle:\n",
        "    def __init__(self, name, mileage, capacity):\n",
        "        self.name = name\n",
        "        self.mileage = mileage\n",
        "        self.capacity = capacity\n",
        "\n",
        "    def fare(self):\n",
        "        return self.capacity * 100\n",
        "\n",
        "# Define the child class Bus that inherits from Vehicle\n",
        "class Bus(Vehicle):\n",
        "    def fare(self):\n",
        "        # Calculate the base fare using the parent class method\n",
        "        base_fare = super().fare()\n",
        "        # Calculate the total fare including the 10% maintenance fee\n",
        "        total_fare = base_fare + (0.10 * base_fare)\n",
        "        return total_fare\n",
        "\n",
        "# Example usage\n",
        "# Create an instance of Bus\n",
        "School_bus = Bus(\"School Volvo\", 12, 50)\n",
        "\n",
        "# Print the total fare for the bus\n",
        "print(\"Total Bus fare is:\", School_bus.fare())\n"
      ],
      "metadata": {
        "id": "jY3Z5SsY_iaQ",
        "colab": {
          "base_uri": "https://localhost:8080/"
        },
        "outputId": "01bb804e-e7d8-472b-9f59-08cb1a517d80"
      },
      "execution_count": null,
      "outputs": [
        {
          "output_type": "stream",
          "name": "stdout",
          "text": [
            "Total Bus fare is: 5500.0\n"
          ]
        }
      ]
    },
    {
      "cell_type": "markdown",
      "source": [
        "### Python JSON Exercise\n",
        "Refer: [Python JSON tutorials](https://pynative.com/python/json/)"
      ],
      "metadata": {
        "id": "3wMvLEkk_nWE"
      }
    },
    {
      "cell_type": "markdown",
      "source": [
        "Q16. Convert the following dictionary into JSON format\n",
        "\n",
        "    data = {\"key1\" : \"value1\", \"key2\" : \"value2\"}\n",
        "    data = {\"key1\" : \"value1\", \"key2\" : \"value2\"}"
      ],
      "metadata": {
        "id": "zVIiuI0PAcuT"
      }
    },
    {
      "cell_type": "code",
      "source": [
        "import json\n",
        "\n",
        "# Define the dictionary\n",
        "data = {\"key1\": \"value1\", \"key2\": \"value2\"}\n",
        "\n",
        "# Convert the dictionary to JSON format\n",
        "json_data = json.dumps(data)\n",
        "\n",
        "# Print the JSON formatted string\n",
        "print(json_data)\n"
      ],
      "metadata": {
        "id": "Z5M47OYS_mhA",
        "colab": {
          "base_uri": "https://localhost:8080/"
        },
        "outputId": "f7a79d43-3d33-4815-e57e-a5b4ad2c4c47"
      },
      "execution_count": null,
      "outputs": [
        {
          "output_type": "stream",
          "name": "stdout",
          "text": [
            "{\"key1\": \"value1\", \"key2\": \"value2\"}\n"
          ]
        }
      ]
    },
    {
      "cell_type": "markdown",
      "source": [
        "Q17. Sort JSON keys in and write them into a file\n",
        "\n",
        "    sampleJson = {\"id\" : 1, \"name\" : \"value2\", \"age\" : 29}\n",
        "\n",
        "    {\n",
        "          \"age\": 29,\n",
        "          \"id\": 1,\n",
        "          \"name\": \"value2\"\n",
        "    }"
      ],
      "metadata": {
        "id": "8eE35QccA_X-"
      }
    },
    {
      "cell_type": "code",
      "source": [
        "import json\n",
        "\n",
        "# Define the sample JSON data\n",
        "sampleJson = {\"id\": 1, \"name\": \"value2\", \"age\": 29}\n",
        "\n",
        "# Convert the dictionary to a JSON formatted string with sorted keys\n",
        "sorted_json = json.dumps(sampleJson, sort_keys=True, indent=4)\n",
        "\n",
        "# Write the sorted JSON to a file\n",
        "with open('sorted_json.json', 'w') as file:\n",
        "    file.write(sorted_json)\n",
        "\n",
        "print(\"Sorted JSON has been written to sorted_json.json\")\n"
      ],
      "metadata": {
        "id": "jLG5tk_X_j5O",
        "colab": {
          "base_uri": "https://localhost:8080/"
        },
        "outputId": "3d109733-e5b3-45eb-da4e-0f7e59c67a53"
      },
      "execution_count": null,
      "outputs": [
        {
          "output_type": "stream",
          "name": "stdout",
          "text": [
            "Sorted JSON has been written to sorted_json.json\n"
          ]
        }
      ]
    }
  ]
}